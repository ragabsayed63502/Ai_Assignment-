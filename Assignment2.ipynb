{
  "nbformat": 4,
  "nbformat_minor": 0,
  "metadata": {
    "colab": {
      "provenance": [],
      "collapsed_sections": [
        "r49sss3JmpUa",
        "tD0FPj0jmwUC",
        "XwSvLvOvm5Fm",
        "rXL2LYPonvbc"
      ],
      "authorship_tag": "ABX9TyNWtWB/9MWXhayLNB4HeNOA",
      "include_colab_link": true
    },
    "kernelspec": {
      "name": "python3",
      "display_name": "Python 3"
    },
    "language_info": {
      "name": "python"
    }
  },
  "cells": [
    {
      "cell_type": "markdown",
      "metadata": {
        "id": "view-in-github",
        "colab_type": "text"
      },
      "source": [
        "<a href=\"https://colab.research.google.com/github/ragabsayed63502/Ai_assignment-/blob/main/Assignment2.ipynb\" target=\"_parent\"><img src=\"https://colab.research.google.com/assets/colab-badge.svg\" alt=\"Open In Colab\"/></a>"
      ]
    },
    {
      "cell_type": "markdown",
      "source": [
        "##Exercise 1: Create a 4X2 integer array and Prints its attributes"
      ],
      "metadata": {
        "id": "r49sss3JmpUa"
      }
    },
    {
      "cell_type": "code",
      "execution_count": null,
      "metadata": {
        "colab": {
          "base_uri": "https://localhost:8080/"
        },
        "id": "5WvLPrH0bdRG",
        "outputId": "1c6c7aef-5e36-4332-8acb-e392d9744abb"
      },
      "outputs": [
        {
          "output_type": "stream",
          "name": "stdout",
          "text": [
            "[[4128  457]\n",
            " [   0    0]\n",
            " [   0    0]\n",
            " [   1    0]]\n",
            "Attributes\n",
            "1): Array Shape is:  (4, 2)\n",
            "2): dimensions are  2\n",
            "3): each element of array in bytes is  2\n"
          ]
        }
      ],
      "source": [
        "import numpy as np\n",
        "arr = np.empty([4,2], dtype = np.uint16) \n",
        "print(arr)\n",
        "print(\"Attributes\")\n",
        "print(\"1): Array Shape is: \", arr.shape)\n",
        "print(\"2): dimensions are \", arr.ndim)\n",
        "print(\"3): each element of array in bytes is \", arr.itemsize)"
      ]
    },
    {
      "cell_type": "markdown",
      "source": [
        "#Exercise 2: Create a 5X2 integer array from a range between 100\n",
        "#to 200 such that the difference between each element is 10"
      ],
      "metadata": {
        "id": "tD0FPj0jmwUC"
      }
    },
    {
      "cell_type": "code",
      "source": [
        "import numpy as np\n",
        "arr = np.arange( 100 , 200, 10 )\n",
        "arr = arr.reshape(5,2)\n",
        "print (arr)"
      ],
      "metadata": {
        "colab": {
          "base_uri": "https://localhost:8080/"
        },
        "id": "XHSKvhL1i8XX",
        "outputId": "c3f0c8c9-e7ae-4f4f-a399-e08ee0a9b86b"
      },
      "execution_count": null,
      "outputs": [
        {
          "output_type": "stream",
          "name": "stdout",
          "text": [
            "[[100 110]\n",
            " [120 130]\n",
            " [140 150]\n",
            " [160 170]\n",
            " [180 190]]\n"
          ]
        }
      ]
    },
    {
      "cell_type": "markdown",
      "source": [
        "#Exercise 3: Following is the provided numPy array. Return array of\n",
        "#items by taking the third column from all rows\n"
      ],
      "metadata": {
        "id": "XwSvLvOvm5Fm"
      }
    },
    {
      "cell_type": "code",
      "source": [
        "import numpy as np\n",
        "arr = np.array([[11 ,22, 33], [44, 55, 66], [77, 88, 99]])\n",
        "print(arr[0][2],arr[1][2],arr[2][2])"
      ],
      "metadata": {
        "colab": {
          "base_uri": "https://localhost:8080/"
        },
        "id": "0e8jDBoGl0zb",
        "outputId": "62b16b88-d005-42ec-f4d0-752aa447041e"
      },
      "execution_count": null,
      "outputs": [
        {
          "output_type": "stream",
          "name": "stdout",
          "text": [
            "33 66 99\n"
          ]
        }
      ]
    },
    {
      "cell_type": "markdown",
      "source": [
        "#Exercise 4: Return array of odd rows and even columns from\n",
        "#below numpy array"
      ],
      "metadata": {
        "id": "rXL2LYPonvbc"
      }
    },
    {
      "cell_type": "code",
      "source": [
        "import numpy as np\n",
        "arr = np.array([[3 ,6, 9, 12], [15 ,18, 21, 24], [27 ,30, 33, 36], [39 ,42, 45, 48], [51 ,54, 57, 60]])\n",
        "print(arr[::2 , 1::2])# start from 0 in even and add 2 ,start from 1 in even and add 2 \n"
      ],
      "metadata": {
        "colab": {
          "base_uri": "https://localhost:8080/"
        },
        "id": "GnR8tK0jm9FZ",
        "outputId": "3ee5cc77-21b8-456b-cdc0-9c0547fa5c50"
      },
      "execution_count": null,
      "outputs": [
        {
          "output_type": "stream",
          "name": "stdout",
          "text": [
            "[[ 6 12]\n",
            " [30 36]\n",
            " [54 60]]\n"
          ]
        }
      ]
    },
    {
      "cell_type": "markdown",
      "source": [],
      "metadata": {
        "id": "vmTnPBEV2fui"
      }
    },
    {
      "cell_type": "markdown",
      "source": [
        "#Exercise 5: Create a result array by adding the following #two \n",
        "#NumPy arrays. Next, modify the result array by calculating #the square of each element"
      ],
      "metadata": {
        "id": "lN7H_TxX2h4Q"
      }
    },
    {
      "cell_type": "code",
      "source": [
        "import numpy as np\n",
        "arrayOne = np.array([[5, 6, 9], [21 ,18, 27]])\n",
        "arrayTwo = np.array([[15 ,33, 24], [4 ,7, 1]])\n",
        "newarr = arrayOne+arrayTwo;\n",
        "print(newarr)\n",
        "\n",
        "for num in np.nditer(newarr, op_flags = ['readwrite']):\n",
        "   num[...] = num*num\n",
        "\n",
        "print('square root')\n",
        "print(newarr)     "
      ],
      "metadata": {
        "colab": {
          "base_uri": "https://localhost:8080/"
        },
        "id": "QSXPUWHimP38",
        "outputId": "e839978d-97af-4304-c0eb-6d1c2875c5ba"
      },
      "execution_count": null,
      "outputs": [
        {
          "output_type": "stream",
          "name": "stdout",
          "text": [
            "[[20 39 33]\n",
            " [25 25 28]]\n",
            "square root\n",
            "[[ 400 1521 1089]\n",
            " [ 625  625  784]]\n"
          ]
        }
      ]
    },
    {
      "cell_type": "markdown",
      "source": [
        "##pandas\n",
        "##Exercise 1: Clean the dataset and update the CSV file?"
      ],
      "metadata": {
        "id": "eK33scNOw8J4"
      }
    },
    {
      "cell_type": "code",
      "source": [
        "import pandas as pd\n",
        "df = pd.read_csv('/content/covid19.csv',na_values={\n",
        "'Country,Other':[\"?\",\"n.a\",\"NaN\"],\n",
        "'TotalCases':[\"?\",\"n.a\",\"NaN\"],\n",
        "'NewCases':[\"?\",\"n.a\",\"NaN\"],\n",
        "'TotalDeaths':[\"?\",\"n.a\",\"NaN\"]})\n",
        "print(df.head(5))"
      ],
      "metadata": {
        "colab": {
          "base_uri": "https://localhost:8080/"
        },
        "id": "0asUX4rxugPt",
        "outputId": "9dfb8c77-2d2f-4ec0-bffe-58bf19f13a1f"
      },
      "execution_count": null,
      "outputs": [
        {
          "output_type": "stream",
          "name": "stdout",
          "text": [
            "   Unnamed: 0 Country,Other  TotalCases NewCases TotalDeaths\n",
            "0           0           USA  29,383,324  +12,619    529,515 \n",
            "1           1         India  11,156,250  +16,927    157,471 \n",
            "2           2        Brazil  10,647,845      NaN    257,562 \n",
            "3           3        Russia   4,278,750  +10,535     87,348 \n",
            "4           4            UK   4,188,400      NaN    123,296 \n"
          ]
        }
      ]
    },
    {
      "cell_type": "markdown",
      "source": [
        "#Exercise 2: Find the most expensive car company name?\n",
        "#Print most expensive car’s company name and price"
      ],
      "metadata": {
        "id": "4dgCyFIx3c6H"
      }
    },
    {
      "cell_type": "code",
      "source": [
        "import pandas as pd\n",
        "df = pd.read_csv(\".....\")\n",
        "df = df [['company','price']][df.price==df['price'].max()]\n",
        "print(df)"
      ],
      "metadata": {
        "id": "MfKQN8AE3QIn"
      },
      "execution_count": null,
      "outputs": []
    },
    {
      "cell_type": "markdown",
      "source": [
        "#Exercise 3: Print All Toyota Cars details?"
      ],
      "metadata": {
        "id": "BnyNVTPC3ljQ"
      }
    },
    {
      "cell_type": "code",
      "source": [
        "import pandas as pd\n",
        "df = pd.read_csv(\"..\")\n",
        "carManuf = df.groupby('company')\n",
        "toyota = carManuf.get_group('toyota')\n",
        "print(toyota)"
      ],
      "metadata": {
        "id": "qrLuLduOw34l"
      },
      "execution_count": null,
      "outputs": []
    },
    {
      "cell_type": "markdown",
      "source": [
        "#Exercise 4: Count total cars per company?"
      ],
      "metadata": {
        "id": "esjLzXiY3_rg"
      }
    },
    {
      "cell_type": "code",
      "source": [
        "import pandas as pd\n",
        "df = pd.read_csv(\"...\")\n",
        "df['company'].value_counts()"
      ],
      "metadata": {
        "id": "KfEjHEvp3-P_"
      },
      "execution_count": null,
      "outputs": []
    },
    {
      "cell_type": "markdown",
      "source": [
        "#Exercise 6: Find each company’s Higesht price car?"
      ],
      "metadata": {
        "id": "DkRWipeq4Ud8"
      }
    },
    {
      "cell_type": "code",
      "source": [
        "import pandas as pd\n",
        "df = pd.read_csv(\"...\")\n",
        "carManuf = df.groupby('company')\n",
        "price = carManuf['company','price'].max()\n",
        "print(price)"
      ],
      "metadata": {
        "id": "QpnO_dJz4TJC"
      },
      "execution_count": null,
      "outputs": []
    }
  ]
}