{
  "nbformat": 4,
  "nbformat_minor": 0,
  "metadata": {
    "colab": {
      "provenance": [],
      "authorship_tag": "ABX9TyO3QB85y4INlIzykboRL2Ov",
      "include_colab_link": true
    },
    "kernelspec": {
      "name": "python3",
      "display_name": "Python 3"
    },
    "language_info": {
      "name": "python"
    }
  },
  "cells": [
    {
      "cell_type": "markdown",
      "metadata": {
        "id": "view-in-github",
        "colab_type": "text"
      },
      "source": [
        "<a href=\"https://colab.research.google.com/github/ragabsayed63502/Ai_assignment-/blob/main/Exam.ipynb\" target=\"_parent\"><img src=\"https://colab.research.google.com/assets/colab-badge.svg\" alt=\"Open In Colab\"/></a>"
      ]
    },
    {
      "cell_type": "markdown",
      "source": [
        "#Task 1\n",
        "#Task 2"
      ],
      "metadata": {
        "id": "pIzeRiGyJ5Wz"
      }
    },
    {
      "cell_type": "code",
      "execution_count": null,
      "metadata": {
        "colab": {
          "base_uri": "https://localhost:8080/"
        },
        "id": "zFXuunPD_CS0",
        "outputId": "f7cfe1af-305f-4539-cc9a-c8fc03750864"
      },
      "outputs": [
        {
          "output_type": "stream",
          "name": "stdout",
          "text": [
            "324000.0626029654\n",
            "   Unnamed: 0  work_year experience_level employment_type  \\\n",
            "0           0       2020               MI              FT   \n",
            "1           1       2020               SE              FT   \n",
            "2           2       2020               SE              FT   \n",
            "3           3       2020               MI              FT   \n",
            "4           4       2020               SE              FT   \n",
            "\n",
            "                    job_title  salary salary_currency  salary_in_usd  \\\n",
            "0              Data Scientist   70000             EUR          79833   \n",
            "1  Machine Learning Scientist  260000             USD         260000   \n",
            "2           Big Data Engineer   85000             GBP         109024   \n",
            "3        Product Data Analyst   20000             USD          20000   \n",
            "4   Machine Learning Engineer  150000             USD         150000   \n",
            "\n",
            "  employee_residence  remote_ratio company_location company_size  \n",
            "0                 DE             0               DE            L  \n",
            "1                 JP             0               JP            S  \n",
            "2                 GB            50               GB            M  \n",
            "3                 HN             0               HN            S  \n",
            "4                 US            50               US            L  \n"
          ]
        }
      ],
      "source": [
        "import pandas as pd\n",
        "df = pd.read_csv('/content/ds_salaries.csv')\n",
        "x = df['salary'].mean() #average values\n",
        "df.sort_values(by = 'salary')\n",
        "print(x)\n",
        "print(df.head(5))"
      ]
    },
    {
      "cell_type": "markdown",
      "source": [
        "#Task 3: Create two data frames using the following two\n",
        "#Dicts, Merge two data frames, and append the second\n",
        "#data frame as a new column to the first data frame."
      ],
      "metadata": {
        "id": "AYpFcPM_DPjI"
      }
    },
    {
      "cell_type": "code",
      "source": [
        "import pandas as pd\n",
        "df = pd.read_csv('/content/ds_salaries.csv')\n",
        "c = pd.read_csv('/content/ds_salaries.csv')\n",
        "newc = df.merge(c,on = 'Unnamed: 0')\n",
        "\n",
        "newc.head(5)\n"
      ],
      "metadata": {
        "colab": {
          "base_uri": "https://localhost:8080/",
          "height": 438
        },
        "id": "owaUDdwyBmUA",
        "outputId": "357e9722-728a-4ef0-9ad8-500510eee91f"
      },
      "execution_count": null,
      "outputs": [
        {
          "output_type": "execute_result",
          "data": {
            "text/plain": [
              "   Unnamed: 0  work_year_x experience_level_x employment_type_x  \\\n",
              "0           0         2020                 MI                FT   \n",
              "1           1         2020                 SE                FT   \n",
              "2           2         2020                 SE                FT   \n",
              "3           3         2020                 MI                FT   \n",
              "4           4         2020                 SE                FT   \n",
              "\n",
              "                  job_title_x  salary_x salary_currency_x  salary_in_usd_x  \\\n",
              "0              Data Scientist     70000               EUR            79833   \n",
              "1  Machine Learning Scientist    260000               USD           260000   \n",
              "2           Big Data Engineer     85000               GBP           109024   \n",
              "3        Product Data Analyst     20000               USD            20000   \n",
              "4   Machine Learning Engineer    150000               USD           150000   \n",
              "\n",
              "  employee_residence_x  remote_ratio_x  ... experience_level_y  \\\n",
              "0                   DE               0  ...                 MI   \n",
              "1                   JP               0  ...                 SE   \n",
              "2                   GB              50  ...                 SE   \n",
              "3                   HN               0  ...                 MI   \n",
              "4                   US              50  ...                 SE   \n",
              "\n",
              "  employment_type_y                 job_title_y salary_y salary_currency_y  \\\n",
              "0                FT              Data Scientist    70000               EUR   \n",
              "1                FT  Machine Learning Scientist   260000               USD   \n",
              "2                FT           Big Data Engineer    85000               GBP   \n",
              "3                FT        Product Data Analyst    20000               USD   \n",
              "4                FT   Machine Learning Engineer   150000               USD   \n",
              "\n",
              "  salary_in_usd_y  employee_residence_y remote_ratio_y  company_location_y  \\\n",
              "0           79833                    DE              0                  DE   \n",
              "1          260000                    JP              0                  JP   \n",
              "2          109024                    GB             50                  GB   \n",
              "3           20000                    HN              0                  HN   \n",
              "4          150000                    US             50                  US   \n",
              "\n",
              "  company_size_y  \n",
              "0              L  \n",
              "1              S  \n",
              "2              M  \n",
              "3              S  \n",
              "4              L  \n",
              "\n",
              "[5 rows x 23 columns]"
            ],
            "text/html": [
              "\n",
              "  <div id=\"df-0e0fad8f-6dd8-4029-b65b-b8ee907d0a87\">\n",
              "    <div class=\"colab-df-container\">\n",
              "      <div>\n",
              "<style scoped>\n",
              "    .dataframe tbody tr th:only-of-type {\n",
              "        vertical-align: middle;\n",
              "    }\n",
              "\n",
              "    .dataframe tbody tr th {\n",
              "        vertical-align: top;\n",
              "    }\n",
              "\n",
              "    .dataframe thead th {\n",
              "        text-align: right;\n",
              "    }\n",
              "</style>\n",
              "<table border=\"1\" class=\"dataframe\">\n",
              "  <thead>\n",
              "    <tr style=\"text-align: right;\">\n",
              "      <th></th>\n",
              "      <th>Unnamed: 0</th>\n",
              "      <th>work_year_x</th>\n",
              "      <th>experience_level_x</th>\n",
              "      <th>employment_type_x</th>\n",
              "      <th>job_title_x</th>\n",
              "      <th>salary_x</th>\n",
              "      <th>salary_currency_x</th>\n",
              "      <th>salary_in_usd_x</th>\n",
              "      <th>employee_residence_x</th>\n",
              "      <th>remote_ratio_x</th>\n",
              "      <th>...</th>\n",
              "      <th>experience_level_y</th>\n",
              "      <th>employment_type_y</th>\n",
              "      <th>job_title_y</th>\n",
              "      <th>salary_y</th>\n",
              "      <th>salary_currency_y</th>\n",
              "      <th>salary_in_usd_y</th>\n",
              "      <th>employee_residence_y</th>\n",
              "      <th>remote_ratio_y</th>\n",
              "      <th>company_location_y</th>\n",
              "      <th>company_size_y</th>\n",
              "    </tr>\n",
              "  </thead>\n",
              "  <tbody>\n",
              "    <tr>\n",
              "      <th>0</th>\n",
              "      <td>0</td>\n",
              "      <td>2020</td>\n",
              "      <td>MI</td>\n",
              "      <td>FT</td>\n",
              "      <td>Data Scientist</td>\n",
              "      <td>70000</td>\n",
              "      <td>EUR</td>\n",
              "      <td>79833</td>\n",
              "      <td>DE</td>\n",
              "      <td>0</td>\n",
              "      <td>...</td>\n",
              "      <td>MI</td>\n",
              "      <td>FT</td>\n",
              "      <td>Data Scientist</td>\n",
              "      <td>70000</td>\n",
              "      <td>EUR</td>\n",
              "      <td>79833</td>\n",
              "      <td>DE</td>\n",
              "      <td>0</td>\n",
              "      <td>DE</td>\n",
              "      <td>L</td>\n",
              "    </tr>\n",
              "    <tr>\n",
              "      <th>1</th>\n",
              "      <td>1</td>\n",
              "      <td>2020</td>\n",
              "      <td>SE</td>\n",
              "      <td>FT</td>\n",
              "      <td>Machine Learning Scientist</td>\n",
              "      <td>260000</td>\n",
              "      <td>USD</td>\n",
              "      <td>260000</td>\n",
              "      <td>JP</td>\n",
              "      <td>0</td>\n",
              "      <td>...</td>\n",
              "      <td>SE</td>\n",
              "      <td>FT</td>\n",
              "      <td>Machine Learning Scientist</td>\n",
              "      <td>260000</td>\n",
              "      <td>USD</td>\n",
              "      <td>260000</td>\n",
              "      <td>JP</td>\n",
              "      <td>0</td>\n",
              "      <td>JP</td>\n",
              "      <td>S</td>\n",
              "    </tr>\n",
              "    <tr>\n",
              "      <th>2</th>\n",
              "      <td>2</td>\n",
              "      <td>2020</td>\n",
              "      <td>SE</td>\n",
              "      <td>FT</td>\n",
              "      <td>Big Data Engineer</td>\n",
              "      <td>85000</td>\n",
              "      <td>GBP</td>\n",
              "      <td>109024</td>\n",
              "      <td>GB</td>\n",
              "      <td>50</td>\n",
              "      <td>...</td>\n",
              "      <td>SE</td>\n",
              "      <td>FT</td>\n",
              "      <td>Big Data Engineer</td>\n",
              "      <td>85000</td>\n",
              "      <td>GBP</td>\n",
              "      <td>109024</td>\n",
              "      <td>GB</td>\n",
              "      <td>50</td>\n",
              "      <td>GB</td>\n",
              "      <td>M</td>\n",
              "    </tr>\n",
              "    <tr>\n",
              "      <th>3</th>\n",
              "      <td>3</td>\n",
              "      <td>2020</td>\n",
              "      <td>MI</td>\n",
              "      <td>FT</td>\n",
              "      <td>Product Data Analyst</td>\n",
              "      <td>20000</td>\n",
              "      <td>USD</td>\n",
              "      <td>20000</td>\n",
              "      <td>HN</td>\n",
              "      <td>0</td>\n",
              "      <td>...</td>\n",
              "      <td>MI</td>\n",
              "      <td>FT</td>\n",
              "      <td>Product Data Analyst</td>\n",
              "      <td>20000</td>\n",
              "      <td>USD</td>\n",
              "      <td>20000</td>\n",
              "      <td>HN</td>\n",
              "      <td>0</td>\n",
              "      <td>HN</td>\n",
              "      <td>S</td>\n",
              "    </tr>\n",
              "    <tr>\n",
              "      <th>4</th>\n",
              "      <td>4</td>\n",
              "      <td>2020</td>\n",
              "      <td>SE</td>\n",
              "      <td>FT</td>\n",
              "      <td>Machine Learning Engineer</td>\n",
              "      <td>150000</td>\n",
              "      <td>USD</td>\n",
              "      <td>150000</td>\n",
              "      <td>US</td>\n",
              "      <td>50</td>\n",
              "      <td>...</td>\n",
              "      <td>SE</td>\n",
              "      <td>FT</td>\n",
              "      <td>Machine Learning Engineer</td>\n",
              "      <td>150000</td>\n",
              "      <td>USD</td>\n",
              "      <td>150000</td>\n",
              "      <td>US</td>\n",
              "      <td>50</td>\n",
              "      <td>US</td>\n",
              "      <td>L</td>\n",
              "    </tr>\n",
              "  </tbody>\n",
              "</table>\n",
              "<p>5 rows × 23 columns</p>\n",
              "</div>\n",
              "      <button class=\"colab-df-convert\" onclick=\"convertToInteractive('df-0e0fad8f-6dd8-4029-b65b-b8ee907d0a87')\"\n",
              "              title=\"Convert this dataframe to an interactive table.\"\n",
              "              style=\"display:none;\">\n",
              "        \n",
              "  <svg xmlns=\"http://www.w3.org/2000/svg\" height=\"24px\"viewBox=\"0 0 24 24\"\n",
              "       width=\"24px\">\n",
              "    <path d=\"M0 0h24v24H0V0z\" fill=\"none\"/>\n",
              "    <path d=\"M18.56 5.44l.94 2.06.94-2.06 2.06-.94-2.06-.94-.94-2.06-.94 2.06-2.06.94zm-11 1L8.5 8.5l.94-2.06 2.06-.94-2.06-.94L8.5 2.5l-.94 2.06-2.06.94zm10 10l.94 2.06.94-2.06 2.06-.94-2.06-.94-.94-2.06-.94 2.06-2.06.94z\"/><path d=\"M17.41 7.96l-1.37-1.37c-.4-.4-.92-.59-1.43-.59-.52 0-1.04.2-1.43.59L10.3 9.45l-7.72 7.72c-.78.78-.78 2.05 0 2.83L4 21.41c.39.39.9.59 1.41.59.51 0 1.02-.2 1.41-.59l7.78-7.78 2.81-2.81c.8-.78.8-2.07 0-2.86zM5.41 20L4 18.59l7.72-7.72 1.47 1.35L5.41 20z\"/>\n",
              "  </svg>\n",
              "      </button>\n",
              "      \n",
              "  <style>\n",
              "    .colab-df-container {\n",
              "      display:flex;\n",
              "      flex-wrap:wrap;\n",
              "      gap: 12px;\n",
              "    }\n",
              "\n",
              "    .colab-df-convert {\n",
              "      background-color: #E8F0FE;\n",
              "      border: none;\n",
              "      border-radius: 50%;\n",
              "      cursor: pointer;\n",
              "      display: none;\n",
              "      fill: #1967D2;\n",
              "      height: 32px;\n",
              "      padding: 0 0 0 0;\n",
              "      width: 32px;\n",
              "    }\n",
              "\n",
              "    .colab-df-convert:hover {\n",
              "      background-color: #E2EBFA;\n",
              "      box-shadow: 0px 1px 2px rgba(60, 64, 67, 0.3), 0px 1px 3px 1px rgba(60, 64, 67, 0.15);\n",
              "      fill: #174EA6;\n",
              "    }\n",
              "\n",
              "    [theme=dark] .colab-df-convert {\n",
              "      background-color: #3B4455;\n",
              "      fill: #D2E3FC;\n",
              "    }\n",
              "\n",
              "    [theme=dark] .colab-df-convert:hover {\n",
              "      background-color: #434B5C;\n",
              "      box-shadow: 0px 1px 3px 1px rgba(0, 0, 0, 0.15);\n",
              "      filter: drop-shadow(0px 1px 2px rgba(0, 0, 0, 0.3));\n",
              "      fill: #FFFFFF;\n",
              "    }\n",
              "  </style>\n",
              "\n",
              "      <script>\n",
              "        const buttonEl =\n",
              "          document.querySelector('#df-0e0fad8f-6dd8-4029-b65b-b8ee907d0a87 button.colab-df-convert');\n",
              "        buttonEl.style.display =\n",
              "          google.colab.kernel.accessAllowed ? 'block' : 'none';\n",
              "\n",
              "        async function convertToInteractive(key) {\n",
              "          const element = document.querySelector('#df-0e0fad8f-6dd8-4029-b65b-b8ee907d0a87');\n",
              "          const dataTable =\n",
              "            await google.colab.kernel.invokeFunction('convertToInteractive',\n",
              "                                                     [key], {});\n",
              "          if (!dataTable) return;\n",
              "\n",
              "          const docLinkHtml = 'Like what you see? Visit the ' +\n",
              "            '<a target=\"_blank\" href=https://colab.research.google.com/notebooks/data_table.ipynb>data table notebook</a>'\n",
              "            + ' to learn more about interactive tables.';\n",
              "          element.innerHTML = '';\n",
              "          dataTable['output_type'] = 'display_data';\n",
              "          await google.colab.output.renderOutput(dataTable, element);\n",
              "          const docLink = document.createElement('div');\n",
              "          docLink.innerHTML = docLinkHtml;\n",
              "          element.appendChild(docLink);\n",
              "        }\n",
              "      </script>\n",
              "    </div>\n",
              "  </div>\n",
              "  "
            ]
          },
          "metadata": {},
          "execution_count": 9
        }
      ]
    },
    {
      "cell_type": "markdown",
      "source": [
        "#Numpy\n",
        "#Task 1: Split the array into four equal-sized sub-arrays"
      ],
      "metadata": {
        "id": "ec4O-opNFGEE"
      }
    },
    {
      "cell_type": "code",
      "source": [
        "import numpy as np\n",
        "a = np.arange(10,34,1).reshape((8,3))\n",
        "subarr = np.array_split(a, 4)\n",
        "print(subarr)"
      ],
      "metadata": {
        "colab": {
          "base_uri": "https://localhost:8080/"
        },
        "id": "6bDlHth3DfXn",
        "outputId": "7caeaf76-859b-434b-b6a3-130b9c9cca8d"
      },
      "execution_count": null,
      "outputs": [
        {
          "output_type": "stream",
          "name": "stdout",
          "text": [
            "[array([[10, 11, 12],\n",
            "       [13, 14, 15]]), array([[16, 17, 18],\n",
            "       [19, 20, 21]]), array([[22, 23, 24],\n",
            "       [25, 26, 27]]), array([[28, 29, 30],\n",
            "       [31, 32, 33]])]\n"
          ]
        }
      ]
    },
    {
      "cell_type": "markdown",
      "source": [
        "#Task 2: Sort following NumPy array\n",
        "# Case 1: Sort array by the second row\n",
        "# Case 2: Sort the array by the second column"
      ],
      "metadata": {
        "id": "5YyyLBhjH3Fm"
      }
    },
    {
      "cell_type": "code",
      "source": [
        "import numpy as np\n",
        "sampleArray =np.array([[34,43,73],[82,22,12],[53,94,66]])\n",
        "print(sampleArray)\n",
        "\n",
        "print('~~~~~~~~~~~~~')\n",
        "\n",
        "a1 = sampleArray[ : , sampleArray[ 1 , : ].argsort()]\n",
        "print('sort by Row:\\n',a1)\n",
        "print('~~~~~~~~~~~~~')\n",
        "\n",
        "a2 = sampleArray[sampleArray[ : , 1].argsort()]\n",
        "print('sort by Column:\\n' ,a2)\n"
      ],
      "metadata": {
        "colab": {
          "base_uri": "https://localhost:8080/"
        },
        "id": "IXbJF1jrFMOo",
        "outputId": "2c8e2cb7-3812-46dd-e0eb-0f2165c756b9"
      },
      "execution_count": null,
      "outputs": [
        {
          "output_type": "stream",
          "name": "stdout",
          "text": [
            "[[34 43 73]\n",
            " [82 22 12]\n",
            " [53 94 66]]\n",
            "~~~~~~~~~~~~~\n",
            "sort by Row:\n",
            " [[73 43 34]\n",
            " [12 22 82]\n",
            " [66 94 53]]\n",
            "~~~~~~~~~~~~~\n",
            "sort by Column:\n",
            " [[82 22 12]\n",
            " [34 43 73]\n",
            " [53 94 66]]\n"
          ]
        }
      ]
    },
    {
      "cell_type": "markdown",
      "source": [
        "#Task 3:Print max from axis 0 and min from axis 1 from the\n",
        "#following 2-D array."
      ],
      "metadata": {
        "id": "NigtUxq8H9gM"
      }
    },
    {
      "cell_type": "code",
      "source": [
        "import numpy as np\n",
        "sampleArray = np.array([[34,43,73],[82,22,12],[53,94,66]])\n",
        "\n",
        "print('max\\n',np.max(sampleArray , axis=0))\n",
        "\n",
        "print('\\nmin\\n',np.min(sampleArray,axis=1))"
      ],
      "metadata": {
        "colab": {
          "base_uri": "https://localhost:8080/"
        },
        "id": "ZwAtktJ_Hv1f",
        "outputId": "727cb8d6-1532-4229-a586-4cac7f1821c5"
      },
      "execution_count": null,
      "outputs": [
        {
          "output_type": "stream",
          "name": "stdout",
          "text": [
            "max\n",
            " [82 94 73]\n",
            "\n",
            "min\n",
            " [34 12 53]\n"
          ]
        }
      ]
    },
    {
      "cell_type": "markdown",
      "source": [
        "#Task 4: Delete the second column from a given array and\n",
        "#insert the following new column in its place."
      ],
      "metadata": {
        "id": "58fXziERIfcg"
      }
    },
    {
      "cell_type": "code",
      "source": [
        "from os import spawnlp\n",
        "import numpy as np\n",
        "sampleArray = np.array([[34,43,73],[82,22,12],[53,94,66]])\n",
        "newColumn = np.array([[10,10,10]])\n",
        "\n",
        "print('array\\n\\n',sampleArray)\n",
        "\n",
        "sampleArray = np.delete( sampleArray , 1,axis=1)\n",
        "print('\\n\\nafter delete \\n',sampleArray)\n",
        "sampleArray = np.insert(sampleArray , 1, newColumn , axis=1,)\n",
        "print('\\n\\nafter Add column \\n',sampleArray)\n",
        "\n",
        "#newColumn = np.add(newColumn , sampleArray , axis = 0)"
      ],
      "metadata": {
        "colab": {
          "base_uri": "https://localhost:8080/"
        },
        "id": "6MTO_2TaIckb",
        "outputId": "77df2b33-f7aa-44c5-c9bb-859c1e0f896f"
      },
      "execution_count": null,
      "outputs": [
        {
          "output_type": "stream",
          "name": "stdout",
          "text": [
            "array\n",
            "\n",
            " [[34 43 73]\n",
            " [82 22 12]\n",
            " [53 94 66]]\n",
            "\n",
            "\n",
            "after delete \n",
            " [[34 73]\n",
            " [82 12]\n",
            " [53 66]]\n",
            "\n",
            "\n",
            "after Add column \n",
            " [[34 10 73]\n",
            " [82 10 12]\n",
            " [53 10 66]]\n"
          ]
        }
      ]
    }
  ]
}